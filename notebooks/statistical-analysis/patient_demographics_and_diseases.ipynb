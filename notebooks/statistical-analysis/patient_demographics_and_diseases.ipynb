{
 "cells": [
  {
   "cell_type": "markdown",
   "metadata": {},
   "source": [
    "# Patient demographics and presence of disease\n",
    "\n",
    "**Author:** Miguel Xochicale [@mxochicale](https://github.com/mxochicale)   \n",
    "**Contributors:** Nhat Phung Tran Huy  [@huynhatd13](https://github.com/huynhatd13)\n",
    "\n",
    "\n",
    "## Introduction\n",
    "\n",
    "This notebook presents prototypes for demographic analysis of participants.\n",
    "\n",
    "### Running notebook\n",
    "Go to echocardiography repository path: `$HOME/repositories/2022-echocardiography-proceedings/`\n",
    "Open echocardiography repo in pycharm and in the terminal type:\n",
    "```\n",
    "git checkout master # or the branch\n",
    "git pull # to bring a local branch up-to-date with its remote version\n",
    "```\n",
    "Launch Notebook server Go to you repository path: `cd $HOME/repositories/2022-echocardiography-proceedings/proceedings/statistica-analysis/` and type in the pycharm terminal:\n",
    "\n",
    "```\n",
    "conda activate echo-paper-ve\n",
    "jupyter notebook\n",
    "```\n",
    "which will open your web-browser.\n",
    "\n",
    "\n",
    "### Logbook\n",
    "* January February and March 2022: Drafts\n",
    "* August 2022: Tidies notebook and match datasets with video echoes\n",
    "\n",
    "\n",
    "\n",
    "### References\n",
    "* B. Glocker, C. Jones, M. Bernhardt, S. Winzeck. Algorithmic encoding of protected characteristics in image-based models for disease detection. 2021. pre-print arXiv:2110.14755. https://github.com/biomedia-mira/chexploration/tree/main/notebooks added 26JAN2022\n",
    "* Tuan, N., Tuong, P. & Popkin, B. Body mass index (BMI) dynamics in vietnam. Eur J Clin Nutr 62, 78–86 (2008). https://doi.org/10.1038/sj.ejcn.1602675 added 21 March 2022\n",
    "* Nguyen  et al.  et al. Metformin as adjunctive therapy for dengue in overweight and obese patients: a protocol for an open-label clinical trial (MeDO) [version 2; peer review: 3 approved]. Wellcome Open Res 2021, 5:160. https://wellcomeopenresearch.org/articles/5-160/v2 https://www.ncbi.nlm.nih.gov/pmc/articles/PMC7539082/pdf/wellcomeopenres-5-18074.pdf added 21 March 2022\n",
    "\n",
    "\n"
   ]
  },
  {
   "cell_type": "markdown",
   "metadata": {},
   "source": [
    "# 2. Jupyter Notebook\n",
    "## 2.1 Setting imports and datasets paths"
   ]
  },
  {
   "cell_type": "code",
   "execution_count": 1,
   "metadata": {
    "ExecuteTime": {
     "end_time": "2022-08-19T05:02:16.793886Z",
     "start_time": "2022-08-19T05:02:16.431538Z"
    }
   },
   "outputs": [
    {
     "name": "stdout",
     "output_type": "stream",
     "text": [
      "FULL_DATA_REPO_PATH: /home/mx19/repositories/vital-ultrasound/ML4H2022/data/patient_demographics_and_diseases/\n"
     ]
    }
   ],
   "source": [
    "import os\n",
    "import pandas as pd\n",
    "import numpy as np\n",
    "import matplotlib.pyplot as plt\n",
    "import seaborn as sns\n",
    "\n",
    "HOME_PATH = os.path.expanduser(f'~')\n",
    "USERNAME = os.path.split(HOME_PATH)[1]\n",
    "\n",
    "REPOSITORY_PATH='repositories/vital-ultrasound/ML4H2022'\n",
    "FULL_REPO_PATH = HOME_PATH+'/'+REPOSITORY_PATH\n",
    "FULL_DATA_REPO_PATH = FULL_REPO_PATH +'/data/patient_demographics_and_diseases/'\n",
    "CSV_FILENAME_CSV = 'ANONYMISED_v00.csv'\n",
    "\n",
    "\n",
    "## Printing Versions and paths\n",
    "print(f'FULL_DATA_REPO_PATH: {FULL_DATA_REPO_PATH}' )\n"
   ]
  },
  {
   "cell_type": "markdown",
   "metadata": {},
   "source": [
    "## 2.1 Loading and filtering dataframe tables\n"
   ]
  },
  {
   "cell_type": "code",
   "execution_count": 2,
   "metadata": {
    "ExecuteTime": {
     "end_time": "2022-08-19T05:02:16.824369Z",
     "start_time": "2022-08-19T05:02:16.795090Z"
    }
   },
   "outputs": [
    {
     "data": {
      "text/html": [
       "<div>\n",
       "<style scoped>\n",
       "    .dataframe tbody tr th:only-of-type {\n",
       "        vertical-align: middle;\n",
       "    }\n",
       "\n",
       "    .dataframe tbody tr th {\n",
       "        vertical-align: top;\n",
       "    }\n",
       "\n",
       "    .dataframe thead th {\n",
       "        text-align: right;\n",
       "    }\n",
       "</style>\n",
       "<table border=\"1\" class=\"dataframe\">\n",
       "  <thead>\n",
       "    <tr style=\"text-align: right;\">\n",
       "      <th></th>\n",
       "      <th>EVENT</th>\n",
       "      <th>USUBJID</th>\n",
       "      <th>USUBJID.1</th>\n",
       "      <th>LABELLED</th>\n",
       "      <th>VIDEO_PATH</th>\n",
       "      <th>VIDEOS</th>\n",
       "      <th>4CV_CLIPS_T1</th>\n",
       "      <th>4CV_CLIPS_T2</th>\n",
       "      <th>4CV_CLIPS_T3</th>\n",
       "      <th>STUDYID</th>\n",
       "      <th>...</th>\n",
       "      <th>AGE</th>\n",
       "      <th>SEX</th>\n",
       "      <th>GROUP1</th>\n",
       "      <th>SEPSIS</th>\n",
       "      <th>DENGUE</th>\n",
       "      <th>TETANUS</th>\n",
       "      <th>GROUP2</th>\n",
       "      <th>TETANUSAG</th>\n",
       "      <th>ADMITTEDICU</th>\n",
       "      <th>DAYSOFICU</th>\n",
       "    </tr>\n",
       "  </thead>\n",
       "  <tbody>\n",
       "    <tr>\n",
       "      <th>38</th>\n",
       "      <td>All</td>\n",
       "      <td>003-040</td>\n",
       "      <td>003-040</td>\n",
       "      <td>Y</td>\n",
       "      <td>YES</td>\n",
       "      <td>YES</td>\n",
       "      <td>3</td>\n",
       "      <td>2</td>\n",
       "      <td>0</td>\n",
       "      <td>01NVb</td>\n",
       "      <td>...</td>\n",
       "      <td>51.0</td>\n",
       "      <td>M</td>\n",
       "      <td>True</td>\n",
       "      <td>False</td>\n",
       "      <td>False</td>\n",
       "      <td>False</td>\n",
       "      <td>False</td>\n",
       "      <td>False</td>\n",
       "      <td>False</td>\n",
       "      <td>1.0</td>\n",
       "    </tr>\n",
       "    <tr>\n",
       "      <th>39</th>\n",
       "      <td>All</td>\n",
       "      <td>003-041</td>\n",
       "      <td>003-041</td>\n",
       "      <td>Y</td>\n",
       "      <td>YES</td>\n",
       "      <td>YES</td>\n",
       "      <td>2</td>\n",
       "      <td>2</td>\n",
       "      <td>4</td>\n",
       "      <td>01NVb</td>\n",
       "      <td>...</td>\n",
       "      <td>48.0</td>\n",
       "      <td>M</td>\n",
       "      <td>True</td>\n",
       "      <td>True</td>\n",
       "      <td>False</td>\n",
       "      <td>False</td>\n",
       "      <td>False</td>\n",
       "      <td>False</td>\n",
       "      <td>False</td>\n",
       "      <td>12.0</td>\n",
       "    </tr>\n",
       "    <tr>\n",
       "      <th>40</th>\n",
       "      <td>All</td>\n",
       "      <td>003-042</td>\n",
       "      <td>003-042</td>\n",
       "      <td>Y</td>\n",
       "      <td>YES</td>\n",
       "      <td>YES</td>\n",
       "      <td>1</td>\n",
       "      <td>1</td>\n",
       "      <td>3</td>\n",
       "      <td>01NVb</td>\n",
       "      <td>...</td>\n",
       "      <td>44.0</td>\n",
       "      <td>M</td>\n",
       "      <td>True</td>\n",
       "      <td>False</td>\n",
       "      <td>True</td>\n",
       "      <td>False</td>\n",
       "      <td>False</td>\n",
       "      <td>False</td>\n",
       "      <td>False</td>\n",
       "      <td>8.0</td>\n",
       "    </tr>\n",
       "    <tr>\n",
       "      <th>41</th>\n",
       "      <td>All</td>\n",
       "      <td>003-043</td>\n",
       "      <td>003-043</td>\n",
       "      <td>Y</td>\n",
       "      <td>YES</td>\n",
       "      <td>YES</td>\n",
       "      <td>1</td>\n",
       "      <td>2</td>\n",
       "      <td>2</td>\n",
       "      <td>01NVb</td>\n",
       "      <td>...</td>\n",
       "      <td>16.0</td>\n",
       "      <td>M</td>\n",
       "      <td>True</td>\n",
       "      <td>False</td>\n",
       "      <td>True</td>\n",
       "      <td>False</td>\n",
       "      <td>False</td>\n",
       "      <td>False</td>\n",
       "      <td>False</td>\n",
       "      <td>0.0</td>\n",
       "    </tr>\n",
       "    <tr>\n",
       "      <th>42</th>\n",
       "      <td>All</td>\n",
       "      <td>003-044</td>\n",
       "      <td>003-044</td>\n",
       "      <td>Y</td>\n",
       "      <td>YES</td>\n",
       "      <td>YES</td>\n",
       "      <td>0</td>\n",
       "      <td>3</td>\n",
       "      <td>1</td>\n",
       "      <td>01NVb</td>\n",
       "      <td>...</td>\n",
       "      <td>64.0</td>\n",
       "      <td>M</td>\n",
       "      <td>True</td>\n",
       "      <td>True</td>\n",
       "      <td>False</td>\n",
       "      <td>False</td>\n",
       "      <td>False</td>\n",
       "      <td>False</td>\n",
       "      <td>False</td>\n",
       "      <td>0.0</td>\n",
       "    </tr>\n",
       "    <tr>\n",
       "      <th>43</th>\n",
       "      <td>All</td>\n",
       "      <td>003-045</td>\n",
       "      <td>003-045</td>\n",
       "      <td>Y</td>\n",
       "      <td>YES</td>\n",
       "      <td>YES</td>\n",
       "      <td>2</td>\n",
       "      <td>1</td>\n",
       "      <td>3</td>\n",
       "      <td>01NVb</td>\n",
       "      <td>...</td>\n",
       "      <td>17.0</td>\n",
       "      <td>F</td>\n",
       "      <td>True</td>\n",
       "      <td>False</td>\n",
       "      <td>True</td>\n",
       "      <td>False</td>\n",
       "      <td>False</td>\n",
       "      <td>False</td>\n",
       "      <td>False</td>\n",
       "      <td>2.0</td>\n",
       "    </tr>\n",
       "    <tr>\n",
       "      <th>44</th>\n",
       "      <td>All</td>\n",
       "      <td>003-046</td>\n",
       "      <td>003-046</td>\n",
       "      <td>Y</td>\n",
       "      <td>YES</td>\n",
       "      <td>YES</td>\n",
       "      <td>2</td>\n",
       "      <td>2</td>\n",
       "      <td>2</td>\n",
       "      <td>01NVb</td>\n",
       "      <td>...</td>\n",
       "      <td>56.0</td>\n",
       "      <td>F</td>\n",
       "      <td>True</td>\n",
       "      <td>True</td>\n",
       "      <td>False</td>\n",
       "      <td>False</td>\n",
       "      <td>False</td>\n",
       "      <td>False</td>\n",
       "      <td>False</td>\n",
       "      <td>0.0</td>\n",
       "    </tr>\n",
       "    <tr>\n",
       "      <th>45</th>\n",
       "      <td>All</td>\n",
       "      <td>003-047</td>\n",
       "      <td>003-047</td>\n",
       "      <td>Y</td>\n",
       "      <td>YES</td>\n",
       "      <td>YES</td>\n",
       "      <td>3</td>\n",
       "      <td>2</td>\n",
       "      <td>2</td>\n",
       "      <td>01NVb</td>\n",
       "      <td>...</td>\n",
       "      <td>45.0</td>\n",
       "      <td>F</td>\n",
       "      <td>True</td>\n",
       "      <td>True</td>\n",
       "      <td>False</td>\n",
       "      <td>False</td>\n",
       "      <td>False</td>\n",
       "      <td>False</td>\n",
       "      <td>False</td>\n",
       "      <td>14.0</td>\n",
       "    </tr>\n",
       "    <tr>\n",
       "      <th>46</th>\n",
       "      <td>All</td>\n",
       "      <td>003-048</td>\n",
       "      <td>003-048</td>\n",
       "      <td>Y</td>\n",
       "      <td>YES</td>\n",
       "      <td>YES</td>\n",
       "      <td>2</td>\n",
       "      <td>1</td>\n",
       "      <td>2</td>\n",
       "      <td>01NVb</td>\n",
       "      <td>...</td>\n",
       "      <td>26.0</td>\n",
       "      <td>M</td>\n",
       "      <td>True</td>\n",
       "      <td>False</td>\n",
       "      <td>False</td>\n",
       "      <td>True</td>\n",
       "      <td>False</td>\n",
       "      <td>False</td>\n",
       "      <td>False</td>\n",
       "      <td>NaN</td>\n",
       "    </tr>\n",
       "    <tr>\n",
       "      <th>48</th>\n",
       "      <td>All</td>\n",
       "      <td>003-050</td>\n",
       "      <td>003-050</td>\n",
       "      <td>Y</td>\n",
       "      <td>YES</td>\n",
       "      <td>YES</td>\n",
       "      <td>2</td>\n",
       "      <td>2</td>\n",
       "      <td>2</td>\n",
       "      <td>01NVb</td>\n",
       "      <td>...</td>\n",
       "      <td>41.0</td>\n",
       "      <td>F</td>\n",
       "      <td>True</td>\n",
       "      <td>True</td>\n",
       "      <td>False</td>\n",
       "      <td>False</td>\n",
       "      <td>False</td>\n",
       "      <td>False</td>\n",
       "      <td>False</td>\n",
       "      <td>8.0</td>\n",
       "    </tr>\n",
       "    <tr>\n",
       "      <th>49</th>\n",
       "      <td>All</td>\n",
       "      <td>003-051</td>\n",
       "      <td>003-051</td>\n",
       "      <td>Y</td>\n",
       "      <td>YES</td>\n",
       "      <td>YES</td>\n",
       "      <td>2</td>\n",
       "      <td>2</td>\n",
       "      <td>1</td>\n",
       "      <td>01NVb</td>\n",
       "      <td>...</td>\n",
       "      <td>40.0</td>\n",
       "      <td>M</td>\n",
       "      <td>True</td>\n",
       "      <td>True</td>\n",
       "      <td>False</td>\n",
       "      <td>False</td>\n",
       "      <td>False</td>\n",
       "      <td>False</td>\n",
       "      <td>False</td>\n",
       "      <td>3.0</td>\n",
       "    </tr>\n",
       "    <tr>\n",
       "      <th>50</th>\n",
       "      <td>All</td>\n",
       "      <td>003-052</td>\n",
       "      <td>003-052</td>\n",
       "      <td>Y</td>\n",
       "      <td>YES</td>\n",
       "      <td>YES</td>\n",
       "      <td>2</td>\n",
       "      <td>1</td>\n",
       "      <td>TO_CHECK</td>\n",
       "      <td>01NVb</td>\n",
       "      <td>...</td>\n",
       "      <td>18.0</td>\n",
       "      <td>F</td>\n",
       "      <td>True</td>\n",
       "      <td>False</td>\n",
       "      <td>True</td>\n",
       "      <td>False</td>\n",
       "      <td>False</td>\n",
       "      <td>False</td>\n",
       "      <td>False</td>\n",
       "      <td>3.0</td>\n",
       "    </tr>\n",
       "    <tr>\n",
       "      <th>51</th>\n",
       "      <td>All</td>\n",
       "      <td>003-053</td>\n",
       "      <td>003-053</td>\n",
       "      <td>Y</td>\n",
       "      <td>YES</td>\n",
       "      <td>YES</td>\n",
       "      <td>4</td>\n",
       "      <td>2</td>\n",
       "      <td>3</td>\n",
       "      <td>01NVb</td>\n",
       "      <td>...</td>\n",
       "      <td>58.0</td>\n",
       "      <td>M</td>\n",
       "      <td>True</td>\n",
       "      <td>True</td>\n",
       "      <td>False</td>\n",
       "      <td>False</td>\n",
       "      <td>False</td>\n",
       "      <td>False</td>\n",
       "      <td>False</td>\n",
       "      <td>NaN</td>\n",
       "    </tr>\n",
       "    <tr>\n",
       "      <th>52</th>\n",
       "      <td>All</td>\n",
       "      <td>003-054</td>\n",
       "      <td>003-054</td>\n",
       "      <td>Y</td>\n",
       "      <td>YES</td>\n",
       "      <td>YES</td>\n",
       "      <td>2</td>\n",
       "      <td>0</td>\n",
       "      <td>2</td>\n",
       "      <td>01NVb</td>\n",
       "      <td>...</td>\n",
       "      <td>45.0</td>\n",
       "      <td>M</td>\n",
       "      <td>True</td>\n",
       "      <td>True</td>\n",
       "      <td>False</td>\n",
       "      <td>False</td>\n",
       "      <td>False</td>\n",
       "      <td>False</td>\n",
       "      <td>False</td>\n",
       "      <td>8.0</td>\n",
       "    </tr>\n",
       "    <tr>\n",
       "      <th>55</th>\n",
       "      <td>All</td>\n",
       "      <td>003-057</td>\n",
       "      <td>003-057</td>\n",
       "      <td>Y</td>\n",
       "      <td>YES</td>\n",
       "      <td>YES</td>\n",
       "      <td>0</td>\n",
       "      <td>1</td>\n",
       "      <td>2</td>\n",
       "      <td>01NVb</td>\n",
       "      <td>...</td>\n",
       "      <td>43.0</td>\n",
       "      <td>M</td>\n",
       "      <td>True</td>\n",
       "      <td>True</td>\n",
       "      <td>False</td>\n",
       "      <td>False</td>\n",
       "      <td>False</td>\n",
       "      <td>False</td>\n",
       "      <td>False</td>\n",
       "      <td>7.0</td>\n",
       "    </tr>\n",
       "    <tr>\n",
       "      <th>56</th>\n",
       "      <td>All</td>\n",
       "      <td>003-058</td>\n",
       "      <td>003-058</td>\n",
       "      <td>Y</td>\n",
       "      <td>YES</td>\n",
       "      <td>YES</td>\n",
       "      <td>1</td>\n",
       "      <td>2</td>\n",
       "      <td>3</td>\n",
       "      <td>01NVb</td>\n",
       "      <td>...</td>\n",
       "      <td>46.0</td>\n",
       "      <td>F</td>\n",
       "      <td>True</td>\n",
       "      <td>False</td>\n",
       "      <td>True</td>\n",
       "      <td>False</td>\n",
       "      <td>False</td>\n",
       "      <td>False</td>\n",
       "      <td>False</td>\n",
       "      <td>2.0</td>\n",
       "    </tr>\n",
       "    <tr>\n",
       "      <th>58</th>\n",
       "      <td>All</td>\n",
       "      <td>003-060</td>\n",
       "      <td>003-060</td>\n",
       "      <td>Y</td>\n",
       "      <td>YES</td>\n",
       "      <td>YES</td>\n",
       "      <td>1</td>\n",
       "      <td>0</td>\n",
       "      <td>0</td>\n",
       "      <td>01NVb</td>\n",
       "      <td>...</td>\n",
       "      <td>71.0</td>\n",
       "      <td>F</td>\n",
       "      <td>True</td>\n",
       "      <td>True</td>\n",
       "      <td>False</td>\n",
       "      <td>False</td>\n",
       "      <td>False</td>\n",
       "      <td>False</td>\n",
       "      <td>False</td>\n",
       "      <td>NaN</td>\n",
       "    </tr>\n",
       "    <tr>\n",
       "      <th>59</th>\n",
       "      <td>All</td>\n",
       "      <td>003-061</td>\n",
       "      <td>003-061</td>\n",
       "      <td>Y</td>\n",
       "      <td>YES</td>\n",
       "      <td>YES</td>\n",
       "      <td>0</td>\n",
       "      <td>0</td>\n",
       "      <td>1</td>\n",
       "      <td>01NVb</td>\n",
       "      <td>...</td>\n",
       "      <td>20.0</td>\n",
       "      <td>F</td>\n",
       "      <td>True</td>\n",
       "      <td>False</td>\n",
       "      <td>True</td>\n",
       "      <td>False</td>\n",
       "      <td>False</td>\n",
       "      <td>False</td>\n",
       "      <td>False</td>\n",
       "      <td>NaN</td>\n",
       "    </tr>\n",
       "    <tr>\n",
       "      <th>61</th>\n",
       "      <td>All</td>\n",
       "      <td>003-063</td>\n",
       "      <td>003-063</td>\n",
       "      <td>Y</td>\n",
       "      <td>YES</td>\n",
       "      <td>YES</td>\n",
       "      <td>2</td>\n",
       "      <td>2</td>\n",
       "      <td>1</td>\n",
       "      <td>01NVb</td>\n",
       "      <td>...</td>\n",
       "      <td>24.0</td>\n",
       "      <td>F</td>\n",
       "      <td>True</td>\n",
       "      <td>False</td>\n",
       "      <td>True</td>\n",
       "      <td>False</td>\n",
       "      <td>False</td>\n",
       "      <td>False</td>\n",
       "      <td>False</td>\n",
       "      <td>NaN</td>\n",
       "    </tr>\n",
       "    <tr>\n",
       "      <th>62</th>\n",
       "      <td>All</td>\n",
       "      <td>003-064</td>\n",
       "      <td>003-064</td>\n",
       "      <td>Y</td>\n",
       "      <td>YES</td>\n",
       "      <td>YES</td>\n",
       "      <td>2</td>\n",
       "      <td>3</td>\n",
       "      <td>0</td>\n",
       "      <td>01NVb</td>\n",
       "      <td>...</td>\n",
       "      <td>27.0</td>\n",
       "      <td>F</td>\n",
       "      <td>True</td>\n",
       "      <td>False</td>\n",
       "      <td>True</td>\n",
       "      <td>False</td>\n",
       "      <td>False</td>\n",
       "      <td>False</td>\n",
       "      <td>False</td>\n",
       "      <td>NaN</td>\n",
       "    </tr>\n",
       "    <tr>\n",
       "      <th>63</th>\n",
       "      <td>All</td>\n",
       "      <td>003-065</td>\n",
       "      <td>003-065</td>\n",
       "      <td>Y</td>\n",
       "      <td>YES</td>\n",
       "      <td>YES</td>\n",
       "      <td>3</td>\n",
       "      <td>4</td>\n",
       "      <td>5</td>\n",
       "      <td>01NVb</td>\n",
       "      <td>...</td>\n",
       "      <td>25.0</td>\n",
       "      <td>M</td>\n",
       "      <td>True</td>\n",
       "      <td>False</td>\n",
       "      <td>True</td>\n",
       "      <td>False</td>\n",
       "      <td>False</td>\n",
       "      <td>False</td>\n",
       "      <td>False</td>\n",
       "      <td>4.0</td>\n",
       "    </tr>\n",
       "    <tr>\n",
       "      <th>64</th>\n",
       "      <td>All</td>\n",
       "      <td>003-066</td>\n",
       "      <td>003-066</td>\n",
       "      <td>Y</td>\n",
       "      <td>YES</td>\n",
       "      <td>YES</td>\n",
       "      <td>1</td>\n",
       "      <td>2</td>\n",
       "      <td>0</td>\n",
       "      <td>01NVb</td>\n",
       "      <td>...</td>\n",
       "      <td>18.0</td>\n",
       "      <td>F</td>\n",
       "      <td>True</td>\n",
       "      <td>False</td>\n",
       "      <td>True</td>\n",
       "      <td>False</td>\n",
       "      <td>False</td>\n",
       "      <td>False</td>\n",
       "      <td>False</td>\n",
       "      <td>NaN</td>\n",
       "    </tr>\n",
       "    <tr>\n",
       "      <th>66</th>\n",
       "      <td>All</td>\n",
       "      <td>003-068</td>\n",
       "      <td>003-068</td>\n",
       "      <td>Y</td>\n",
       "      <td>YES</td>\n",
       "      <td>YES</td>\n",
       "      <td>2</td>\n",
       "      <td>0</td>\n",
       "      <td>2</td>\n",
       "      <td>01NVb</td>\n",
       "      <td>...</td>\n",
       "      <td>24.0</td>\n",
       "      <td>M</td>\n",
       "      <td>True</td>\n",
       "      <td>False</td>\n",
       "      <td>True</td>\n",
       "      <td>False</td>\n",
       "      <td>False</td>\n",
       "      <td>False</td>\n",
       "      <td>False</td>\n",
       "      <td>0.0</td>\n",
       "    </tr>\n",
       "    <tr>\n",
       "      <th>67</th>\n",
       "      <td>All</td>\n",
       "      <td>003-069</td>\n",
       "      <td>003-069</td>\n",
       "      <td>Y</td>\n",
       "      <td>YES</td>\n",
       "      <td>YES</td>\n",
       "      <td>2</td>\n",
       "      <td>2</td>\n",
       "      <td>2</td>\n",
       "      <td>01NVb</td>\n",
       "      <td>...</td>\n",
       "      <td>43.0</td>\n",
       "      <td>F</td>\n",
       "      <td>True</td>\n",
       "      <td>True</td>\n",
       "      <td>False</td>\n",
       "      <td>False</td>\n",
       "      <td>False</td>\n",
       "      <td>False</td>\n",
       "      <td>False</td>\n",
       "      <td>NaN</td>\n",
       "    </tr>\n",
       "    <tr>\n",
       "      <th>68</th>\n",
       "      <td>All</td>\n",
       "      <td>003-070</td>\n",
       "      <td>003-070</td>\n",
       "      <td>Y</td>\n",
       "      <td>YES</td>\n",
       "      <td>YES</td>\n",
       "      <td>4</td>\n",
       "      <td>1</td>\n",
       "      <td>1</td>\n",
       "      <td>01NVb</td>\n",
       "      <td>...</td>\n",
       "      <td>32.0</td>\n",
       "      <td>M</td>\n",
       "      <td>True</td>\n",
       "      <td>False</td>\n",
       "      <td>False</td>\n",
       "      <td>True</td>\n",
       "      <td>False</td>\n",
       "      <td>False</td>\n",
       "      <td>False</td>\n",
       "      <td>7.0</td>\n",
       "    </tr>\n",
       "    <tr>\n",
       "      <th>71</th>\n",
       "      <td>All</td>\n",
       "      <td>003-073</td>\n",
       "      <td>003-073</td>\n",
       "      <td>Y</td>\n",
       "      <td>YES</td>\n",
       "      <td>YES</td>\n",
       "      <td>2</td>\n",
       "      <td>1</td>\n",
       "      <td>0</td>\n",
       "      <td>01NVb</td>\n",
       "      <td>...</td>\n",
       "      <td>66.0</td>\n",
       "      <td>M</td>\n",
       "      <td>True</td>\n",
       "      <td>True</td>\n",
       "      <td>False</td>\n",
       "      <td>False</td>\n",
       "      <td>False</td>\n",
       "      <td>False</td>\n",
       "      <td>False</td>\n",
       "      <td>NaN</td>\n",
       "    </tr>\n",
       "    <tr>\n",
       "      <th>72</th>\n",
       "      <td>All</td>\n",
       "      <td>003-074</td>\n",
       "      <td>003-074</td>\n",
       "      <td>Y</td>\n",
       "      <td>YES</td>\n",
       "      <td>YES</td>\n",
       "      <td>2</td>\n",
       "      <td>2</td>\n",
       "      <td>0</td>\n",
       "      <td>01NVb</td>\n",
       "      <td>...</td>\n",
       "      <td>42.0</td>\n",
       "      <td>M</td>\n",
       "      <td>True</td>\n",
       "      <td>False</td>\n",
       "      <td>False</td>\n",
       "      <td>True</td>\n",
       "      <td>False</td>\n",
       "      <td>False</td>\n",
       "      <td>False</td>\n",
       "      <td>NaN</td>\n",
       "    </tr>\n",
       "    <tr>\n",
       "      <th>73</th>\n",
       "      <td>All</td>\n",
       "      <td>003-075</td>\n",
       "      <td>003-075</td>\n",
       "      <td>Y</td>\n",
       "      <td>YES</td>\n",
       "      <td>YES</td>\n",
       "      <td>1</td>\n",
       "      <td>2</td>\n",
       "      <td>2</td>\n",
       "      <td>01NVb</td>\n",
       "      <td>...</td>\n",
       "      <td>25.0</td>\n",
       "      <td>F</td>\n",
       "      <td>True</td>\n",
       "      <td>False</td>\n",
       "      <td>True</td>\n",
       "      <td>False</td>\n",
       "      <td>False</td>\n",
       "      <td>False</td>\n",
       "      <td>False</td>\n",
       "      <td>NaN</td>\n",
       "    </tr>\n",
       "    <tr>\n",
       "      <th>74</th>\n",
       "      <td>All</td>\n",
       "      <td>003-076</td>\n",
       "      <td>003-076</td>\n",
       "      <td>Y</td>\n",
       "      <td>YES</td>\n",
       "      <td>YES</td>\n",
       "      <td>1</td>\n",
       "      <td>1</td>\n",
       "      <td>2</td>\n",
       "      <td>01NVb</td>\n",
       "      <td>...</td>\n",
       "      <td>65.0</td>\n",
       "      <td>M</td>\n",
       "      <td>True</td>\n",
       "      <td>False</td>\n",
       "      <td>False</td>\n",
       "      <td>True</td>\n",
       "      <td>False</td>\n",
       "      <td>False</td>\n",
       "      <td>False</td>\n",
       "      <td>7.0</td>\n",
       "    </tr>\n",
       "    <tr>\n",
       "      <th>76</th>\n",
       "      <td>All</td>\n",
       "      <td>003-078</td>\n",
       "      <td>003-078</td>\n",
       "      <td>Y</td>\n",
       "      <td>YES</td>\n",
       "      <td>YES</td>\n",
       "      <td>1</td>\n",
       "      <td>1</td>\n",
       "      <td>1</td>\n",
       "      <td>01NVb</td>\n",
       "      <td>...</td>\n",
       "      <td>27.0</td>\n",
       "      <td>M</td>\n",
       "      <td>True</td>\n",
       "      <td>False</td>\n",
       "      <td>True</td>\n",
       "      <td>False</td>\n",
       "      <td>False</td>\n",
       "      <td>False</td>\n",
       "      <td>False</td>\n",
       "      <td>2.0</td>\n",
       "    </tr>\n",
       "    <tr>\n",
       "      <th>77</th>\n",
       "      <td>All</td>\n",
       "      <td>003-079</td>\n",
       "      <td>003-079</td>\n",
       "      <td>Y</td>\n",
       "      <td>YES</td>\n",
       "      <td>YES</td>\n",
       "      <td>1</td>\n",
       "      <td>2</td>\n",
       "      <td>2</td>\n",
       "      <td>01NVb</td>\n",
       "      <td>...</td>\n",
       "      <td>33.0</td>\n",
       "      <td>M</td>\n",
       "      <td>True</td>\n",
       "      <td>False</td>\n",
       "      <td>True</td>\n",
       "      <td>False</td>\n",
       "      <td>False</td>\n",
       "      <td>False</td>\n",
       "      <td>False</td>\n",
       "      <td>0.0</td>\n",
       "    </tr>\n",
       "  </tbody>\n",
       "</table>\n",
       "<p>31 rows × 40 columns</p>\n",
       "</div>"
      ],
      "text/plain": [
       "   EVENT  USUBJID USUBJID.1 LABELLED VIDEO_PATH VIDEOS 4CV_CLIPS_T1  \\\n",
       "38   All  003-040   003-040        Y        YES    YES            3   \n",
       "39   All  003-041   003-041        Y        YES    YES            2   \n",
       "40   All  003-042   003-042        Y        YES    YES            1   \n",
       "41   All  003-043   003-043        Y        YES    YES            1   \n",
       "42   All  003-044   003-044        Y        YES    YES            0   \n",
       "43   All  003-045   003-045        Y        YES    YES            2   \n",
       "44   All  003-046   003-046        Y        YES    YES            2   \n",
       "45   All  003-047   003-047        Y        YES    YES            3   \n",
       "46   All  003-048   003-048        Y        YES    YES            2   \n",
       "48   All  003-050   003-050        Y        YES    YES            2   \n",
       "49   All  003-051   003-051        Y        YES    YES            2   \n",
       "50   All  003-052   003-052        Y        YES    YES            2   \n",
       "51   All  003-053   003-053        Y        YES    YES            4   \n",
       "52   All  003-054   003-054        Y        YES    YES            2   \n",
       "55   All  003-057   003-057        Y        YES    YES            0   \n",
       "56   All  003-058   003-058        Y        YES    YES            1   \n",
       "58   All  003-060   003-060        Y        YES    YES            1   \n",
       "59   All  003-061   003-061        Y        YES    YES            0   \n",
       "61   All  003-063   003-063        Y        YES    YES            2   \n",
       "62   All  003-064   003-064        Y        YES    YES            2   \n",
       "63   All  003-065   003-065        Y        YES    YES            3   \n",
       "64   All  003-066   003-066        Y        YES    YES            1   \n",
       "66   All  003-068   003-068        Y        YES    YES            2   \n",
       "67   All  003-069   003-069        Y        YES    YES            2   \n",
       "68   All  003-070   003-070        Y        YES    YES            4   \n",
       "71   All  003-073   003-073        Y        YES    YES            2   \n",
       "72   All  003-074   003-074        Y        YES    YES            2   \n",
       "73   All  003-075   003-075        Y        YES    YES            1   \n",
       "74   All  003-076   003-076        Y        YES    YES            1   \n",
       "76   All  003-078   003-078        Y        YES    YES            1   \n",
       "77   All  003-079   003-079        Y        YES    YES            1   \n",
       "\n",
       "   4CV_CLIPS_T2 4CV_CLIPS_T3 STUDYID  ...   AGE SEX GROUP1 SEPSIS DENGUE  \\\n",
       "38            2            0   01NVb  ...  51.0   M   True  False  False   \n",
       "39            2            4   01NVb  ...  48.0   M   True   True  False   \n",
       "40            1            3   01NVb  ...  44.0   M   True  False   True   \n",
       "41            2            2   01NVb  ...  16.0   M   True  False   True   \n",
       "42            3            1   01NVb  ...  64.0   M   True   True  False   \n",
       "43            1            3   01NVb  ...  17.0   F   True  False   True   \n",
       "44            2            2   01NVb  ...  56.0   F   True   True  False   \n",
       "45            2            2   01NVb  ...  45.0   F   True   True  False   \n",
       "46            1            2   01NVb  ...  26.0   M   True  False  False   \n",
       "48            2            2   01NVb  ...  41.0   F   True   True  False   \n",
       "49            2            1   01NVb  ...  40.0   M   True   True  False   \n",
       "50            1     TO_CHECK   01NVb  ...  18.0   F   True  False   True   \n",
       "51            2            3   01NVb  ...  58.0   M   True   True  False   \n",
       "52            0            2   01NVb  ...  45.0   M   True   True  False   \n",
       "55            1            2   01NVb  ...  43.0   M   True   True  False   \n",
       "56            2            3   01NVb  ...  46.0   F   True  False   True   \n",
       "58            0            0   01NVb  ...  71.0   F   True   True  False   \n",
       "59            0            1   01NVb  ...  20.0   F   True  False   True   \n",
       "61            2            1   01NVb  ...  24.0   F   True  False   True   \n",
       "62            3            0   01NVb  ...  27.0   F   True  False   True   \n",
       "63            4            5   01NVb  ...  25.0   M   True  False   True   \n",
       "64            2            0   01NVb  ...  18.0   F   True  False   True   \n",
       "66            0            2   01NVb  ...  24.0   M   True  False   True   \n",
       "67            2            2   01NVb  ...  43.0   F   True   True  False   \n",
       "68            1            1   01NVb  ...  32.0   M   True  False  False   \n",
       "71            1            0   01NVb  ...  66.0   M   True   True  False   \n",
       "72            2            0   01NVb  ...  42.0   M   True  False  False   \n",
       "73            2            2   01NVb  ...  25.0   F   True  False   True   \n",
       "74            1            2   01NVb  ...  65.0   M   True  False  False   \n",
       "76            1            1   01NVb  ...  27.0   M   True  False   True   \n",
       "77            2            2   01NVb  ...  33.0   M   True  False   True   \n",
       "\n",
       "   TETANUS GROUP2 TETANUSAG ADMITTEDICU DAYSOFICU  \n",
       "38   False  False     False       False       1.0  \n",
       "39   False  False     False       False      12.0  \n",
       "40   False  False     False       False       8.0  \n",
       "41   False  False     False       False       0.0  \n",
       "42   False  False     False       False       0.0  \n",
       "43   False  False     False       False       2.0  \n",
       "44   False  False     False       False       0.0  \n",
       "45   False  False     False       False      14.0  \n",
       "46    True  False     False       False       NaN  \n",
       "48   False  False     False       False       8.0  \n",
       "49   False  False     False       False       3.0  \n",
       "50   False  False     False       False       3.0  \n",
       "51   False  False     False       False       NaN  \n",
       "52   False  False     False       False       8.0  \n",
       "55   False  False     False       False       7.0  \n",
       "56   False  False     False       False       2.0  \n",
       "58   False  False     False       False       NaN  \n",
       "59   False  False     False       False       NaN  \n",
       "61   False  False     False       False       NaN  \n",
       "62   False  False     False       False       NaN  \n",
       "63   False  False     False       False       4.0  \n",
       "64   False  False     False       False       NaN  \n",
       "66   False  False     False       False       0.0  \n",
       "67   False  False     False       False       NaN  \n",
       "68    True  False     False       False       7.0  \n",
       "71   False  False     False       False       NaN  \n",
       "72    True  False     False       False       NaN  \n",
       "73   False  False     False       False       NaN  \n",
       "74    True  False     False       False       7.0  \n",
       "76   False  False     False       False       2.0  \n",
       "77   False  False     False       False       0.0  \n",
       "\n",
       "[31 rows x 40 columns]"
      ]
     },
     "execution_count": 2,
     "metadata": {},
     "output_type": "execute_result"
    }
   ],
   "source": [
    "pandas_anonymised_csv= pd.read_csv(FULL_DATA_REPO_PATH + CSV_FILENAME_CSV)\n",
    "df_anonymised = pd.DataFrame(pandas_anonymised_csv)\n",
    "\n",
    "## Comment/Uncomment to see Labelled vs non labelled data distributions\n",
    "# df_anonymised = df_anonymised[  (df_anonymised[\"EVENT\"] == 'All')  &  (df_anonymised[\"VIDEO_PATH\"] == 'YES') ]\n",
    "df_anonymised = df_anonymised[  (df_anonymised[\"EVENT\"] == 'All')  &  (df_anonymised[\"VIDEO_PATH\"] == 'YES') & (df_anonymised[\"LABELLED\"] == 'Y') ]\n",
    "\n",
    "# df_anonymised.head()\n",
    "df_anonymised"
   ]
  },
  {
   "cell_type": "markdown",
   "metadata": {},
   "source": [
    "## 3. Filtering and creating columns"
   ]
  },
  {
   "cell_type": "code",
   "execution_count": 3,
   "metadata": {
    "ExecuteTime": {
     "end_time": "2022-08-19T05:02:16.862378Z",
     "start_time": "2022-08-19T05:02:16.825912Z"
    }
   },
   "outputs": [
    {
     "name": "stdout",
     "output_type": "stream",
     "text": [
      "    SUBJID LABELLED SEX  WEIGHT  HEIGHT   AGE SEPSIS DENGUE TETANUS  \\\n",
      "38    40.0        Y   M    67.0    1.70  51.0  False  False   False   \n",
      "39    41.0        Y   M    56.0    1.68  48.0   True  False   False   \n",
      "40    42.0        Y   M    67.0    1.67  44.0  False   True   False   \n",
      "41    43.0        Y   M   114.0    1.78  16.0  False   True   False   \n",
      "42    44.0        Y   M    78.0    1.73  64.0   True  False   False   \n",
      "43    45.0        Y   F    62.0    1.57  17.0  False   True   False   \n",
      "44    46.0        Y   F    42.0    1.53  56.0   True  False   False   \n",
      "45    47.0        Y   F    53.0    1.50  45.0   True  False   False   \n",
      "46    48.0        Y   M    60.0    1.62  26.0  False  False    True   \n",
      "48    50.0        Y   F    51.0    1.63  41.0   True  False   False   \n",
      "49    51.0        Y   M    60.0    1.68  40.0   True  False   False   \n",
      "50    52.0        Y   F    82.0    1.60  18.0  False   True   False   \n",
      "51    53.0        Y   M    57.0    1.65  58.0   True  False   False   \n",
      "52    54.0        Y   M    60.0    1.62  45.0   True  False   False   \n",
      "55    57.0        Y   M    55.0    1.65  43.0   True  False   False   \n",
      "56    58.0        Y   F    69.0    1.50  46.0  False   True   False   \n",
      "58    60.0        Y   F    62.0    1.60  71.0   True  False   False   \n",
      "59    61.0        Y   F    39.0    1.55  20.0  False   True   False   \n",
      "61    63.0        Y   F    57.0    1.61  24.0  False   True   False   \n",
      "62    64.0        Y   F    56.0    1.58  27.0  False   True   False   \n",
      "63    65.0        Y   M    60.0    1.64  25.0  False   True   False   \n",
      "64    66.0        Y   F    48.0    1.48  18.0  False   True   False   \n",
      "66    68.0        Y   M    70.0    1.70  24.0  False   True   False   \n",
      "67    69.0        Y   F    47.0    1.45  43.0   True  False   False   \n",
      "68    70.0        Y   M    55.0    1.65  32.0  False  False    True   \n",
      "71    73.0        Y   M    80.0    1.65  66.0   True  False   False   \n",
      "72    74.0        Y   M    60.0    1.65  42.0  False  False    True   \n",
      "73    75.0        Y   F    45.0    1.58  25.0  False   True   False   \n",
      "74    76.0        Y   M    53.0    1.60  65.0  False  False    True   \n",
      "76    78.0        Y   M    89.0    1.77  27.0  False   True   False   \n",
      "77    79.0        Y   M    53.0    1.60  33.0  False   True   False   \n",
      "\n",
      "   ADMITTEDICU POINTCARE   SMOKER TAKINGMED   BMI  \n",
      "38       False     False        Y         Y  24.0  \n",
      "39       False     False        N         N  20.0  \n",
      "40       False      True        N         N  25.0  \n",
      "41       False      True        N         Y  36.0  \n",
      "42       False      True        N         Y  27.0  \n",
      "43       False      True        N         N  26.0  \n",
      "44       False     False        N         Y  18.0  \n",
      "45       False      True        N         N  24.0  \n",
      "46       False     False        N         N  23.0  \n",
      "48       False     False        Y         Y  20.0  \n",
      "49       False     False        N         N  22.0  \n",
      "50       False     False        N         N  33.0  \n",
      "51       False     False        Y         Y  21.0  \n",
      "52       False     False        Y         N  23.0  \n",
      "55       False     False        N         N  21.0  \n",
      "56       False     False        N         N  31.0  \n",
      "58       False     False  UNKNOWN         N  25.0  \n",
      "59       False      True        N         N  17.0  \n",
      "61       False     False        N         N  22.0  \n",
      "62       False     False        N         N  23.0  \n",
      "63       False     False        N         N  23.0  \n",
      "64       False     False        N         N  22.0  \n",
      "66       False     False        N         N  25.0  \n",
      "67       False     False        N         Y  23.0  \n",
      "68       False     False        Y         N  21.0  \n",
      "71       False     False        N         Y  30.0  \n",
      "72       False     False        N         N  23.0  \n",
      "73       False     False        N         N  19.0  \n",
      "74       False     False        Y         N  21.0  \n",
      "76       False     False        N         N  29.0  \n",
      "77       False     False        N         N  21.0  \n",
      "SUBJID         58.451613\n",
      "WEIGHT         61.516129\n",
      "HEIGHT          1.620000\n",
      "AGE            38.709677\n",
      "SEPSIS          0.387097\n",
      "DENGUE          0.451613\n",
      "TETANUS         0.129032\n",
      "ADMITTEDICU     0.000000\n",
      "POINTCARE       0.193548\n",
      "BMI            23.806452\n",
      "dtype: float64\n",
      "SUBJID         12.241565\n",
      "WEIGHT         15.068446\n",
      "HEIGHT          0.078613\n",
      "AGE            16.081446\n",
      "SEPSIS          0.495138\n",
      "DENGUE          0.505879\n",
      "TETANUS         0.340777\n",
      "ADMITTEDICU     0.000000\n",
      "POINTCARE       0.401610\n",
      "BMI             4.300538\n",
      "dtype: float64\n"
     ]
    }
   ],
   "source": [
    "## Filtering columns\n",
    "\n",
    "basic_demographics=df_anonymised.filter(items=[ 'SUBJID','LABELLED', 'SEX', 'WEIGHT', 'HEIGHT', 'AGE', 'SEPSIS', 'DENGUE', 'TETANUS', 'ADMITTEDICU', 'POINTCARE', 'SMOKER', 'TAKINGMED'])\n",
    "\n",
    "###########################\n",
    "#BMI (WEIGHT (kg)/HEIGH(m)^2)\n",
    "basic_demographics[\"HEIGHT\"] = basic_demographics[\"HEIGHT\"] /100\n",
    "basic_demographics[\"BMI\"] =  basic_demographics[\"WEIGHT\"] / (basic_demographics[\"HEIGHT\"] * basic_demographics[\"HEIGHT\"])\n",
    "\n",
    "basic_demographics['BMI'] = basic_demographics['BMI'].apply(np.ceil)\n",
    "#basic_demographics['BMI'] = basic_demographics['BMI'].apply(np.ceil).astype(int)\n",
    "\n",
    "###########################\n",
    "print(basic_demographics)\n",
    "\n",
    "print(basic_demographics.mean())\n",
    "print(basic_demographics.std())\n",
    "\n",
    "\n",
    "# basic_demographics.tail()\n"
   ]
  },
  {
   "cell_type": "code",
   "execution_count": 4,
   "metadata": {
    "ExecuteTime": {
     "end_time": "2022-08-19T05:02:17.446276Z",
     "start_time": "2022-08-19T05:02:16.863247Z"
    }
   },
   "outputs": [
    {
     "name": "stdout",
     "output_type": "stream",
     "text": [
      "=================== GENDER =======================\n"
     ]
    },
    {
     "data": {
      "image/png": "[encoded data removed]",
      "text/plain": [
       "<Figure size 432x288 with 1 Axes>"
      ]
     },
     "metadata": {},
     "output_type": "display_data"
    },
    {
     "name": "stdout",
     "output_type": "stream",
     "text": [
      "=================== AGE DISTRIBUTION =======================\n",
      "(31, 14)\n"
     ]
    },
    {
     "data": {
      "image/png": "[encoded data removed]",
      "text/plain": [
       "<Figure size 864x576 with 1 Axes>"
      ]
     },
     "metadata": {
      "needs_background": "light"
     },
     "output_type": "display_data"
    },
    {
     "name": "stdout",
     "output_type": "stream",
     "text": [
      "=================== Body Mass Index of all participants =======================\n"
     ]
    },
    {
     "data": {
      "image/png": "[encoded data removed]",
      "text/plain": [
       "<Figure size 432x288 with 1 Axes>"
      ]
     },
     "metadata": {},
     "output_type": "display_data"
    }
   ],
   "source": [
    "print(f'=================== GENDER =======================')\n",
    "basic_demographics['SEX'].value_counts().plot.pie(autopct='%.1f %%', \n",
    "                                                  ylabel='TOTAL', \n",
    "                                                  legend=True, \n",
    "                                                  textprops={'fontsize': 25})\n",
    "# plt.axis('equal')\n",
    "plt.savefig('plot_sex.png')\n",
    "plt.show()\n",
    "basic_demographics['SEX']\n",
    "\n",
    "\n",
    "print(f'=================== AGE DISTRIBUTION =======================')\n",
    "print(basic_demographics.shape)\n",
    "\n",
    "basic_demographics.hist(column='AGE', bins=10, figsize=(12,8), grid=False, color='#86bf91', zorder=2, rwidth=0.9)\n",
    "plt.axis('equal')\n",
    "plt.xlabel('age-bin', fontsize=20)\n",
    "plt.ylabel('subject number', fontsize=20)\n",
    "plt.yticks(fontsize=20)\n",
    "plt.xticks(fontsize=20)\n",
    "plt.grid()\n",
    "plt.minorticks_on()\n",
    "#plt.grid(which='major', linestyle='-', linewidth='0.5', color='red')\n",
    "#plt.grid(which='minor', linestyle=':', linewidth='0.5', color='black')\n",
    "plt.savefig('plot_age.png')\n",
    "plt.show()\n",
    "\n",
    "print(f'=================== Body Mass Index of all participants =======================')\n",
    "basic_demographics['BMI'].value_counts().plot.pie(autopct='%.1f %%', ylabel='BMI', legend=False, \n",
    "                                                  textprops={'fontsize': 15})\n",
    "plt.axis('equal')\n",
    "plt.savefig('plot_bmi.png')\n",
    "plt.show()\n",
    "\n",
    "\n"
   ]
  },
  {
   "cell_type": "code",
   "execution_count": 5,
   "metadata": {
    "ExecuteTime": {
     "end_time": "2022-08-19T05:02:17.563722Z",
     "start_time": "2022-08-19T05:02:17.447211Z"
    }
   },
   "outputs": [
    {
     "name": "stdout",
     "output_type": "stream",
     "text": [
      "=================== LABELLED =======================\n",
      "Y    31\n",
      "Name: LABELLED, dtype: int64\n"
     ]
    },
    {
     "data": {
      "image/png": "[encoded data removed]",
      "text/plain": [
       "<Figure size 432x288 with 1 Axes>"
      ]
     },
     "metadata": {},
     "output_type": "display_data"
    }
   ],
   "source": [
    "print(f'=================== LABELLED =======================')\n",
    "print(basic_demographics['LABELLED'].value_counts())\n",
    "basic_demographics['LABELLED'].value_counts().plot.pie(autopct='%.1f %%', ylabel='TOTAL', legend=True, textprops={'fontsize': 25})\n",
    "plt.axis('equal')\n",
    "plt.savefig('plot_labelled.png')\n",
    "plt.show()\n"
   ]
  },
  {
   "cell_type": "code",
   "execution_count": 6,
   "metadata": {
    "ExecuteTime": {
     "end_time": "2022-08-19T05:02:17.784963Z",
     "start_time": "2022-08-19T05:02:17.564555Z"
    }
   },
   "outputs": [
    {
     "name": "stdout",
     "output_type": "stream",
     "text": [
      "=================== GENDER, SEPSIS =======================\n"
     ]
    },
    {
     "data": {
      "image/png": "[encoded data removed]",
      "text/plain": [
       "<Figure size 432x288 with 1 Axes>"
      ]
     },
     "metadata": {},
     "output_type": "display_data"
    },
    {
     "data": {
      "image/png": "[encoded data removed]",
      "text/plain": [
       "<Figure size 432x288 with 1 Axes>"
      ]
     },
     "metadata": {
      "needs_background": "light"
     },
     "output_type": "display_data"
    }
   ],
   "source": [
    "print(f'=================== GENDER, SEPSIS =======================')\n",
    "basic_demographics['SEPSIS'].value_counts().plot.pie(autopct='%.1f %%', ylabel='SEPSIS', legend=True, textprops={'fontsize': 25})\n",
    "plt.axis('equal')\n",
    "plt.savefig('plot_sepsis.png')\n",
    "plt.show()\n",
    "\n",
    "sns.countplot(data=basic_demographics,x='SEPSIS',hue='SEX')\n",
    "plt.xlabel('SEPSIS (F/T)', fontsize=20)\n",
    "plt.ylabel('subjects', fontsize=20)\n",
    "plt.yticks(fontsize=20)\n",
    "plt.xticks(fontsize=20)\n",
    "plt.savefig('plot_sepsis_sex.png')\n",
    "plt.show()\n",
    "\n"
   ]
  },
  {
   "cell_type": "code",
   "execution_count": 7,
   "metadata": {
    "ExecuteTime": {
     "end_time": "2022-08-19T05:02:18.003596Z",
     "start_time": "2022-08-19T05:02:17.786007Z"
    }
   },
   "outputs": [
    {
     "name": "stdout",
     "output_type": "stream",
     "text": [
      "=================== GENDER, DENGUE =======================\n"
     ]
    },
    {
     "data": {
      "image/png": "[encoded data removed]",
      "text/plain": [
       "<Figure size 432x288 with 1 Axes>"
      ]
     },
     "metadata": {},
     "output_type": "display_data"
    },
    {
     "data": {
      "image/png": "[encoded data removed]",
      "text/plain": [
       "<Figure size 432x288 with 1 Axes>"
      ]
     },
     "metadata": {
      "needs_background": "light"
     },
     "output_type": "display_data"
    }
   ],
   "source": [
    "print(f'=================== GENDER, DENGUE =======================')\n",
    "\n",
    "basic_demographics['DENGUE'].value_counts().plot.pie(autopct='%.1f %%', ylabel='DENGUE', legend=True, textprops={'fontsize': 25})\n",
    "plt.axis('equal')\n",
    "plt.savefig('plot_dengue.png')\n",
    "plt.show()\n",
    "\n",
    "sns.countplot(data=basic_demographics,x='DENGUE',hue='SEX')\n",
    "plt.xlabel('DENGUE (F/T)', fontsize=20)\n",
    "plt.ylabel('subjects', fontsize=20)\n",
    "plt.yticks(fontsize=20)\n",
    "plt.xticks(fontsize=20)\n",
    "plt.savefig('plot_dengue_sex.png')\n",
    "plt.show()\n",
    "\n"
   ]
  },
  {
   "cell_type": "code",
   "execution_count": 8,
   "metadata": {
    "ExecuteTime": {
     "end_time": "2022-08-19T05:02:18.248956Z",
     "start_time": "2022-08-19T05:02:18.004775Z"
    }
   },
   "outputs": [
    {
     "name": "stdout",
     "output_type": "stream",
     "text": [
      "=================== GENDER, TETANUS =======================\n"
     ]
    },
    {
     "data": {
      "image/png": "[encoded data removed]",
      "text/plain": [
       "<Figure size 432x288 with 1 Axes>"
      ]
     },
     "metadata": {},
     "output_type": "display_data"
    },
    {
     "data": {
      "image/png": "[encoded data removed]",
      "text/plain": [
       "<Figure size 432x288 with 1 Axes>"
      ]
     },
     "metadata": {
      "needs_background": "light"
     },
     "output_type": "display_data"
    }
   ],
   "source": [
    "print(f'=================== GENDER, TETANUS =======================')\n",
    "basic_demographics['TETANUS'].value_counts().plot.pie(autopct='%.1f %%', ylabel='TETANUS', legend=True, textprops={'fontsize': 25})\n",
    "plt.axis('equal')\n",
    "plt.savefig('plot_tetanus.png')\n",
    "plt.show()\n",
    "\n",
    "sns.countplot(data=basic_demographics,x='TETANUS',hue='SEX')\n",
    "plt.xlabel('TETANUS (F/T)', fontsize=20)\n",
    "plt.ylabel('subjects', fontsize=20)\n",
    "plt.yticks(fontsize=20)\n",
    "plt.xticks(fontsize=20)\n",
    "plt.savefig('plot_tetanus_sex.png')\n",
    "plt.show()\n"
   ]
  },
  {
   "cell_type": "code",
   "execution_count": 9,
   "metadata": {
    "ExecuteTime": {
     "end_time": "2022-08-19T05:02:18.433599Z",
     "start_time": "2022-08-19T05:02:18.250051Z"
    }
   },
   "outputs": [
    {
     "name": "stdout",
     "output_type": "stream",
     "text": [
      "=================== GENDER, ADMITTEDICU =======================\n"
     ]
    },
    {
     "data": {
      "image/png": "[encoded data removed]",
      "text/plain": [
       "<Figure size 432x288 with 1 Axes>"
      ]
     },
     "metadata": {},
     "output_type": "display_data"
    },
    {
     "data": {
      "image/png": "[encoded data removed]",
      "text/plain": [
       "<Figure size 432x288 with 1 Axes>"
      ]
     },
     "metadata": {
      "needs_background": "light"
     },
     "output_type": "display_data"
    }
   ],
   "source": [
    "print(f'=================== GENDER, ADMITTEDICU =======================')\n",
    "\n",
    "basic_demographics['ADMITTEDICU'].value_counts().plot.pie(autopct='%.1f %%', ylabel='ADMITTEDICU', legend=True)\n",
    "plt.axis('equal')\n",
    "plt.show()\n",
    "\n",
    "sns.countplot(data=basic_demographics,x='ADMITTEDICU',hue='SEX')\n",
    "plt.show()\n",
    "\n"
   ]
  },
  {
   "cell_type": "code",
   "execution_count": 10,
   "metadata": {
    "ExecuteTime": {
     "end_time": "2022-08-19T05:02:18.608327Z",
     "start_time": "2022-08-19T05:02:18.434409Z"
    }
   },
   "outputs": [
    {
     "name": "stdout",
     "output_type": "stream",
     "text": [
      "=================== GENDER, POINTCARE =======================\n"
     ]
    },
    {
     "data": {
      "image/png": "[encoded data removed]",
      "text/plain": [
       "<Figure size 432x288 with 1 Axes>"
      ]
     },
     "metadata": {},
     "output_type": "display_data"
    },
    {
     "data": {
      "image/png": "[encoded data removed]",
      "text/plain": [
       "<Figure size 432x288 with 1 Axes>"
      ]
     },
     "metadata": {
      "needs_background": "light"
     },
     "output_type": "display_data"
    }
   ],
   "source": [
    "print(f'=================== GENDER, POINTCARE =======================')\n",
    "\n",
    "basic_demographics['POINTCARE'].value_counts().plot.pie(autopct='%.1f %%', ylabel='POINTCARE', legend=True)\n",
    "plt.axis('equal')\n",
    "plt.show()\n",
    "\n",
    "sns.countplot(data=basic_demographics,x='POINTCARE',hue='SEX')\n",
    "plt.show()"
   ]
  },
  {
   "cell_type": "code",
   "execution_count": null,
   "metadata": {
    "ExecuteTime": {
     "end_time": "2022-08-18T16:55:06.204537Z",
     "start_time": "2022-08-18T16:55:06.064465Z"
    }
   },
   "outputs": [],
   "source": []
  },
  {
   "cell_type": "code",
   "execution_count": 11,
   "metadata": {
    "ExecuteTime": {
     "end_time": "2022-08-19T05:02:18.772651Z",
     "start_time": "2022-08-19T05:02:18.609292Z"
    }
   },
   "outputs": [
    {
     "name": "stdout",
     "output_type": "stream",
     "text": [
      "=================== Body Mass Index plots for participants with/without SEPSIS =======================\n"
     ]
    },
    {
     "data": {
      "image/png": "[encoded data removed]",
      "text/plain": [
       "<Figure size 432x288 with 1 Axes>"
      ]
     },
     "metadata": {},
     "output_type": "display_data"
    },
    {
     "data": {
      "image/png": "[encoded data removed]",
      "text/plain": [
       "<Figure size 432x288 with 1 Axes>"
      ]
     },
     "metadata": {},
     "output_type": "display_data"
    },
    {
     "name": "stderr",
     "output_type": "stream",
     "text": [
      "/home/mx19/anaconda3/envs/echo-paper-ve/lib/python3.8/site-packages/pandas/plotting/_matplotlib/core.py:1547: MatplotlibDeprecationWarning: normalize=None does not normalize if the sum is less than 1 but this behavior is deprecated since 3.3 until two minor releases later. After the deprecation period the default value will be normalize=True. To prevent normalization pass normalize=False \n",
      "  results = ax.pie(y, labels=blabels, **kwds)\n"
     ]
    },
    {
     "data": {
      "image/png": "[encoded data removed]",
      "text/plain": [
       "<Figure size 432x288 with 1 Axes>"
      ]
     },
     "metadata": {},
     "output_type": "display_data"
    },
    {
     "data": {
      "image/png": "[encoded data removed]",
      "text/plain": [
       "<Figure size 432x288 with 1 Axes>"
      ]
     },
     "metadata": {},
     "output_type": "display_data"
    }
   ],
   "source": [
    "print(f'=================== Body Mass Index plots for participants with/without SEPSIS =======================')\n",
    "\n",
    "AGE_LIMIT = 50\n",
    "bdA = basic_demographics[(basic_demographics[\"AGE\"] > AGE_LIMIT) & \n",
    "                         (basic_demographics[\"SEX\"] =='F') & \n",
    "                         (basic_demographics[\"SEPSIS\"] == 1)  ]\n",
    "bdA['BMI'].value_counts().plot.pie(autopct='%.1f %%', ylabel='Female BMI with SEPSIS', legend=False)\n",
    "plt.axis('equal')\n",
    "plt.show()\n",
    "\n",
    "bdA = basic_demographics[ (basic_demographics[\"AGE\"] > AGE_LIMIT) & \n",
    "                         (basic_demographics[\"SEX\"] =='M') & \n",
    "                         (basic_demographics[\"SEPSIS\"] == 1)  ]\n",
    "bdA['BMI'].value_counts().plot.pie(autopct='%.1f %%', ylabel='Male BMI with SEPSIS', legend=False)\n",
    "plt.axis('equal')\n",
    "plt.show()\n",
    "\n",
    "bdA = basic_demographics[ (basic_demographics[\"AGE\"] > AGE_LIMIT) & \n",
    "                         (basic_demographics[\"SEX\"] =='F') & \n",
    "                         (basic_demographics[\"SEPSIS\"] == 0)  ]\n",
    "bdA['BMI'].value_counts().plot.pie(autopct='%.1f %%', ylabel='Female BMI without SEPSIS', legend=False)\n",
    "plt.axis('equal')\n",
    "plt.show()\n",
    "\n",
    "bdA = basic_demographics[ (basic_demographics[\"AGE\"] > AGE_LIMIT) & \n",
    "                         (basic_demographics[\"SEX\"] =='M') & \n",
    "                         (basic_demographics[\"SEPSIS\"] == 0)  ]\n",
    "bdA['BMI'].value_counts().plot.pie(autopct='%.1f %%', ylabel='Male BMI without SEPSIS', legend=False)\n",
    "plt.axis('equal')\n",
    "plt.show()\n",
    "\n"
   ]
  },
  {
   "cell_type": "code",
   "execution_count": 12,
   "metadata": {
    "ExecuteTime": {
     "end_time": "2022-08-19T05:02:18.921650Z",
     "start_time": "2022-08-19T05:02:18.773519Z"
    }
   },
   "outputs": [
    {
     "name": "stdout",
     "output_type": "stream",
     "text": [
      "=================== Body Mass Index plots for participants with/without DENGUE =======================\n"
     ]
    },
    {
     "name": "stderr",
     "output_type": "stream",
     "text": [
      "/home/mx19/anaconda3/envs/echo-paper-ve/lib/python3.8/site-packages/pandas/plotting/_matplotlib/core.py:1547: MatplotlibDeprecationWarning: normalize=None does not normalize if the sum is less than 1 but this behavior is deprecated since 3.3 until two minor releases later. After the deprecation period the default value will be normalize=True. To prevent normalization pass normalize=False \n",
      "  results = ax.pie(y, labels=blabels, **kwds)\n"
     ]
    },
    {
     "data": {
      "image/png": "[encoded data removed]",
      "text/plain": [
       "<Figure size 432x288 with 1 Axes>"
      ]
     },
     "metadata": {},
     "output_type": "display_data"
    },
    {
     "data": {
      "image/png": "[encoded data removed]",
      "text/plain": [
       "<Figure size 432x288 with 1 Axes>"
      ]
     },
     "metadata": {},
     "output_type": "display_data"
    },
    {
     "name": "stderr",
     "output_type": "stream",
     "text": [
      "/home/mx19/anaconda3/envs/echo-paper-ve/lib/python3.8/site-packages/pandas/plotting/_matplotlib/core.py:1547: MatplotlibDeprecationWarning: normalize=None does not normalize if the sum is less than 1 but this behavior is deprecated since 3.3 until two minor releases later. After the deprecation period the default value will be normalize=True. To prevent normalization pass normalize=False \n",
      "  results = ax.pie(y, labels=blabels, **kwds)\n"
     ]
    },
    {
     "data": {
      "image/png": "[encoded data removed]",
      "text/plain": [
       "<Figure size 432x288 with 1 Axes>"
      ]
     },
     "metadata": {},
     "output_type": "display_data"
    },
    {
     "data": {
      "image/png": "[encoded data removed]",
      "text/plain": [
       "<Figure size 432x288 with 1 Axes>"
      ]
     },
     "metadata": {},
     "output_type": "display_data"
    }
   ],
   "source": [
    "print(f'=================== Body Mass Index plots for participants with/without DENGUE =======================')\n",
    "AGE_LIMIT = 50\n",
    "\n",
    "bdA = basic_demographics[ (basic_demographics[\"AGE\"] > AGE_LIMIT) & \n",
    "                         (basic_demographics[\"SEX\"] =='F') & \n",
    "                         (basic_demographics[\"DENGUE\"] == 1)  ]\n",
    "bdA['BMI'].value_counts().plot.pie(autopct='%.1f %%', ylabel='Female BMI with DENGUE', legend=False)\n",
    "plt.axis('equal')\n",
    "plt.show()\n",
    "\n",
    "bdA = basic_demographics[ (basic_demographics[\"AGE\"] > AGE_LIMIT) & \n",
    "                         (basic_demographics[\"SEX\"] =='F') & \n",
    "                         (basic_demographics[\"DENGUE\"] == 0)  ]\n",
    "bdA['BMI'].value_counts().plot.pie(autopct='%.1f %%', ylabel='Female BMI without DENGUE', legend=False)\n",
    "plt.axis('equal')\n",
    "plt.show()\n",
    "\n",
    "\n",
    "bdA = basic_demographics[ (basic_demographics[\"AGE\"] > AGE_LIMIT) & \n",
    "                         (basic_demographics[\"SEX\"] =='M') & \n",
    "                         (basic_demographics[\"DENGUE\"] == 1)  ]\n",
    "bdA['BMI'].value_counts().plot.pie(autopct='%.1f %%', ylabel='Male BMI with DENGUE', legend=False)\n",
    "plt.axis('equal')\n",
    "plt.show()\n",
    "\n",
    "bdA = basic_demographics[ (basic_demographics[\"AGE\"] > AGE_LIMIT) & \n",
    "                         (basic_demographics[\"SEX\"] =='M') & \n",
    "                         (basic_demographics[\"DENGUE\"] == 0)  ]\n",
    "bdA['BMI'].value_counts().plot.pie(autopct='%.1f %%', ylabel='Male BMI without DENGUE', legend=False)\n",
    "plt.axis('equal')\n",
    "plt.show()\n",
    "\n",
    "\n"
   ]
  },
  {
   "cell_type": "code",
   "execution_count": 13,
   "metadata": {
    "ExecuteTime": {
     "end_time": "2022-08-19T05:02:19.114766Z",
     "start_time": "2022-08-19T05:02:18.922732Z"
    }
   },
   "outputs": [
    {
     "name": "stdout",
     "output_type": "stream",
     "text": [
      "=================== GENDER, SMOKER =======================\n"
     ]
    },
    {
     "data": {
      "image/png": "[encoded data removed]",
      "text/plain": [
       "<Figure size 432x288 with 1 Axes>"
      ]
     },
     "metadata": {},
     "output_type": "display_data"
    },
    {
     "data": {
      "image/png": "[encoded data removed]",
      "text/plain": [
       "<Figure size 432x288 with 1 Axes>"
      ]
     },
     "metadata": {
      "needs_background": "light"
     },
     "output_type": "display_data"
    }
   ],
   "source": [
    "print(f'=================== GENDER, SMOKER =======================')\n",
    "basic_demographics['SMOKER'].value_counts().plot.pie(autopct='%.1f %%', ylabel='SMOKER', legend=True)\n",
    "plt.axis('equal')\n",
    "plt.show()\n",
    "\n",
    "sns.countplot(data=basic_demographics,x='SMOKER',hue='SEX')\n",
    "plt.show()"
   ]
  },
  {
   "cell_type": "code",
   "execution_count": 14,
   "metadata": {
    "ExecuteTime": {
     "end_time": "2022-08-19T05:02:19.302803Z",
     "start_time": "2022-08-19T05:02:19.115642Z"
    }
   },
   "outputs": [
    {
     "name": "stdout",
     "output_type": "stream",
     "text": [
      "=================== GENDER, TAKINGMED =======================\n"
     ]
    },
    {
     "data": {
      "image/png": "[encoded data removed]",
      "text/plain": [
       "<Figure size 432x288 with 1 Axes>"
      ]
     },
     "metadata": {},
     "output_type": "display_data"
    },
    {
     "data": {
      "image/png": "[encoded data removed]",
      "text/plain": [
       "<Figure size 432x288 with 1 Axes>"
      ]
     },
     "metadata": {
      "needs_background": "light"
     },
     "output_type": "display_data"
    }
   ],
   "source": [
    "print(f'=================== GENDER, TAKINGMED =======================')\n",
    "basic_demographics['TAKINGMED'].value_counts().plot.pie(autopct='%.1f %%', ylabel='TAKINGMED', legend=True)\n",
    "plt.axis('equal')\n",
    "plt.show()\n",
    "\n",
    "sns.countplot(data=basic_demographics,x='TAKINGMED',hue='SEX')\n",
    "plt.show()"
   ]
  },
  {
   "cell_type": "code",
   "execution_count": 15,
   "metadata": {
    "ExecuteTime": {
     "end_time": "2022-08-19T05:02:19.305128Z",
     "start_time": "2022-08-19T05:02:19.303708Z"
    }
   },
   "outputs": [],
   "source": [
    "## TODO\n",
    "## *ANNOTATIONS (4CV,BGR) T1,T2,T3 \n",
    "\n"
   ]
  },
  {
   "cell_type": "code",
   "execution_count": null,
   "metadata": {},
   "outputs": [],
   "source": []
  },
  {
   "cell_type": "code",
   "execution_count": null,
   "metadata": {},
   "outputs": [],
   "source": []
  }
 ],
 "metadata": {
  "kernelspec": {
   "display_name": "Python 3",
   "language": "python",
   "name": "python3"
  },
  "language_info": {
   "codemirror_mode": {
    "name": "ipython",
    "version": 3
   },
   "file_extension": ".py",
   "mimetype": "text/x-python",
   "name": "python",
   "nbconvert_exporter": "python",
   "pygments_lexer": "ipython3",
   "version": "3.8.5"
  }
 },
 "nbformat": 4,
 "nbformat_minor": 4
}
